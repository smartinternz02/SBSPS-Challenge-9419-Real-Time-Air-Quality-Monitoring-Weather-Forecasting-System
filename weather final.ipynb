{
 "cells": [
  {
   "cell_type": "code",
   "execution_count": 1,
   "id": "46fd6d70",
   "metadata": {},
   "outputs": [],
   "source": [
    "import requests"
   ]
  },
  {
   "cell_type": "code",
   "execution_count": 3,
   "id": "50d31882",
   "metadata": {},
   "outputs": [
    {
     "name": "stdout",
     "output_type": "stream",
     "text": [
      "Enter your city: coimbatore\n",
      "Enter you Zip code: 641004\n",
      "Your location : Peelamedu\n",
      "The Air Quality Index in coimbatore is 72\n",
      "Current Temperature : 31.88\n",
      "Current Temperature Feels Like:  35.39\n",
      "Maximum Temperature:  31.88\n",
      "Minimum Temperature:  29.73\n",
      "Current Pressure:  1008\n",
      "current Humidity:  55\n",
      "Visibility:  6000\n"
     ]
    }
   ],
   "source": [
    "city_name = input(\"Enter your city: \")\n",
    "\n",
    "Zip_Code = input(\"Enter you Zip code: \")\n",
    "\n",
    "api_key1 = \"b0dcab972b6b94eb98d5811544648c81\"\n",
    "\n",
    "api_key2 = \"2e016624f7d56f526ea060e5a126283b2aa0620c\"\n",
    "\n",
    "api_key3 = \"b0dcab972b6b94eb98d5811544648c81\"\n",
    "\n",
    "url1 = f\"https://api.openweathermap.org/data/2.5/weather?q={city_name}&appid={api_key1}&units=metric\"\n",
    "\n",
    "url2 = f\"https://api.waqi.info/feed/{city_name}/?token={api_key2}\"\n",
    "\n",
    "url3 = f\"https://api.openweathermap.org/data/2.5/weather?zip={Zip_Code},in&appid={api_key3}&units=metric\"\n",
    "\n",
    "response1 = requests.get(url1)\n",
    "\n",
    "response2 = requests.get(url2)\n",
    "\n",
    "response3 = requests.get(url3)\n",
    "\n",
    "data1 = response1.json()\n",
    "\n",
    "data2 = response2.json()\n",
    "\n",
    "data3 = response3.json()\n",
    "\n",
    "aqi = data2['data']['aqi']\n",
    "\n",
    "print (\"Your location :\",data3[\"name\"])\n",
    "\n",
    "print (f\"The Air Quality Index in {city_name} is {aqi}\")\n",
    "\n",
    "print (\"Current Temperature :\",data1[\"main\"][\"temp\"])\n",
    "\n",
    "print (\"Current Temperature Feels Like: \",data1[\"main\"][\"feels_like\"])\n",
    "\n",
    "print (\"Maximum Temperature: \",data1[\"main\"][\"temp_max\"])\n",
    "\n",
    "print (\"Minimum Temperature: \",data1[\"main\"][\"temp_min\"])\n",
    "\n",
    "print (\"Current Pressure: \",data1[\"main\"][\"pressure\"])\n",
    "\n",
    "print (\"current Humidity: \",data1[\"main\"][\"humidity\"])\n",
    "\n",
    "print (\"Visibility: \",data1[\"visibility\"])\n"
   ]
  },
  {
   "cell_type": "code",
   "execution_count": null,
   "id": "e200926f",
   "metadata": {},
   "outputs": [],
   "source": []
  }
 ],
 "metadata": {
  "kernelspec": {
   "display_name": "Python 3 (ipykernel)",
   "language": "python",
   "name": "python3"
  },
  "language_info": {
   "codemirror_mode": {
    "name": "ipython",
    "version": 3
   },
   "file_extension": ".py",
   "mimetype": "text/x-python",
   "name": "python",
   "nbconvert_exporter": "python",
   "pygments_lexer": "ipython3",
   "version": "3.9.12"
  }
 },
 "nbformat": 4,
 "nbformat_minor": 5
}
